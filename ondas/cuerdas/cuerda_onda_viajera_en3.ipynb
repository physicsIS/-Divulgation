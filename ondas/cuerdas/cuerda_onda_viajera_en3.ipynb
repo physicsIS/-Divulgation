{
 "cells": [
  {
   "cell_type": "code",
   "execution_count": 45,
   "metadata": {},
   "outputs": [],
   "source": [
    "import sympy as smp\n",
    "from sympy import I"
   ]
  },
  {
   "cell_type": "code",
   "execution_count": 46,
   "metadata": {},
   "outputs": [],
   "source": [
    "A , B, C, D, E  = smp.symbols(r\"A,B,C,D,E\", complex = True)\n",
    "k1,k2,k3, omega, labda1, labda2,labda3 ,x,t,L = smp.symbols(r\" k_1 ,k_2,k_3, \\omega, \\lambda_1,\\lambda_2,\\lambda_3,x,t,L\", real = True)"
   ]
  },
  {
   "cell_type": "markdown",
   "metadata": {},
   "source": [
    "### Ondas"
   ]
  },
  {
   "cell_type": "code",
   "execution_count": 47,
   "metadata": {},
   "outputs": [
    {
     "data": {
      "text/latex": [
       "$\\displaystyle y_{i1} = A e^{i \\left(- \\omega t + k_{1} x\\right)}\\hspace{20mm}y_{r1} = B e^{i \\left(- \\omega t - k_{1} x\\right)}\\hspace{20mm}y_{t1} = C e^{i \\left(- \\omega t + k_{2} x\\right)}\\hspace{20mm}y_{r2} = D e^{i \\left(- \\omega t - k_{2} x\\right)}\\hspace{20mm}y_{t2} = E e^{i \\left(- \\omega t + k_{3} x\\right)}$"
      ],
      "text/plain": [
       "<IPython.core.display.Math object>"
      ]
     },
     "metadata": {},
     "output_type": "display_data"
    },
    {
     "data": {
      "text/latex": [
       "$\\displaystyle \\Psi_{1} = A e^{i \\left(- \\omega t + k_{1} x\\right)} + B e^{i \\left(- \\omega t - k_{1} x\\right)}$"
      ],
      "text/plain": [
       "Eq(\\Psi_1, A*exp(I*(-\\omega*t + k_1*x)) + B*exp(I*(-\\omega*t - k_1*x)))"
      ]
     },
     "metadata": {},
     "output_type": "display_data"
    },
    {
     "data": {
      "text/latex": [
       "$\\displaystyle \\Psi_{2} = C e^{i \\left(- \\omega t + k_{2} x\\right)} + D e^{i \\left(- \\omega t - k_{2} x\\right)}$"
      ],
      "text/plain": [
       "Eq(\\Psi_2, C*exp(I*(-\\omega*t + k_2*x)) + D*exp(I*(-\\omega*t - k_2*x)))"
      ]
     },
     "metadata": {},
     "output_type": "display_data"
    },
    {
     "data": {
      "text/latex": [
       "$\\displaystyle \\Psi_{3} = E e^{i \\left(- \\omega t + k_{3} x\\right)}$"
      ],
      "text/plain": [
       "Eq(\\Psi_3, E*exp(I*(-\\omega*t + k_3*x)))"
      ]
     },
     "metadata": {},
     "output_type": "display_data"
    }
   ],
   "source": [
    "yi1 = A*smp.exp(I*(k1*x-omega*t)) # Onda indicente medio 1 - medio 2\n",
    "yr1 = B*smp.exp(I*(-k1*x-omega*t)) # Onda reflejada medio 1 - medio 2\n",
    "yt1 = C*smp.exp(I*(k2*x-omega*t)) # Onda transmitida medio 1 - medio 2\n",
    "yr2 = D*smp.exp(I*(-k2*x-omega*t)) # Onda reflejada medio 2 - medio 3\n",
    "yt2 = E*smp.exp(I*(k3*x-omega*t)) # Onda transmitida medio 2 - medio 3\n",
    "\n",
    "from sympy import latex\n",
    "from IPython.display import display, Math\n",
    "\n",
    "Yi1,Yr1,Yt1,Yr2,Yt2 = smp.symbols(r\"y_{i1},y_{r1},y_{t1},y_{r2},y_{t2}\")\n",
    "\n",
    "# Combina las expresiones en una cadena LaTeX separadas por comas\n",
    "expresiones = [smp.Eq(Yi1,yi1),smp.Eq(Yr1,yr1),smp.Eq(Yt1,yt1),smp.Eq(Yr2,yr2),smp.Eq(Yt2,yt2)]\n",
    "\n",
    "# Usa Math para mostrar en una sola línea\n",
    "display(Math(\"\\\\hspace{20mm}\".join([latex(expr) for expr in expresiones])))\n",
    "\n",
    "\n",
    "y1 = yi1+yr1 # Ondas en el medio 1\n",
    "y2 = yt1 + yr2 # Ondas en el medio 2\n",
    "y3 = yt2 # Ondas en el medio 3\n",
    "\n",
    "Y1,Y2,Y3 = smp.symbols(r\"\\Psi_1,\\Psi_2,\\Psi_3\")\n",
    "\n",
    "display(smp.Eq(Y1,y1),smp.Eq(Y2,y2),smp.Eq(Y3,y3))"
   ]
  },
  {
   "cell_type": "markdown",
   "metadata": {},
   "source": [
    "### Condiciones de Frontera"
   ]
  },
  {
   "cell_type": "markdown",
   "metadata": {},
   "source": [
    "$$ \\Psi_1 |_{x = x_0} =  \\Psi_2 |_{x = x_0} $$\n",
    "\n",
    "$$ \\frac{\\partial\\Psi_1}{\\partial x}|_{x = x_0} = \\frac{\\partial\\Psi_2}{\\partial x}|_{x = x_0}  $$"
   ]
  },
  {
   "cell_type": "code",
   "execution_count": 48,
   "metadata": {},
   "outputs": [
    {
     "data": {
      "text/latex": [
       "$\\displaystyle A + B - C - D = 0$"
      ],
      "text/plain": [
       "Eq(A + B - C - D, 0)"
      ]
     },
     "metadata": {},
     "output_type": "display_data"
    },
    {
     "data": {
      "text/latex": [
       "$\\displaystyle A k_{1} - B k_{1} - C k_{2} + D k_{2} = 0$"
      ],
      "text/plain": [
       "Eq(A*k_1 - B*k_1 - C*k_2 + D*k_2, 0)"
      ]
     },
     "metadata": {},
     "output_type": "display_data"
    },
    {
     "data": {
      "text/latex": [
       "$\\displaystyle C e^{i L k_{2}} + D e^{- i L k_{2}} - E e^{i L k_{3}} = 0$"
      ],
      "text/plain": [
       "Eq(C*exp(I*L*k_2) + D*exp(-I*L*k_2) - E*exp(I*L*k_3), 0)"
      ]
     },
     "metadata": {},
     "output_type": "display_data"
    },
    {
     "data": {
      "text/latex": [
       "$\\displaystyle C k_{2} e^{i L k_{2}} - D k_{2} e^{- i L k_{2}} - E k_{3} e^{i L k_{3}} = 0$"
      ],
      "text/plain": [
       "Eq(C*k_2*exp(I*L*k_2) - D*k_2*exp(-I*L*k_2) - E*k_3*exp(I*L*k_3), 0)"
      ]
     },
     "metadata": {},
     "output_type": "display_data"
    }
   ],
   "source": [
    "# Primer nudo\n",
    "\n",
    "eq1 = (y1 - y2).subs([(x,0)]).simplify()*smp.exp(I*omega*t)\n",
    "eqd1 = (smp.diff(y1,x) - smp.diff(y2,x)).subs([(x,0)]).simplify()*smp.exp(I*omega*t)*-I\n",
    "\n",
    "display(smp.Eq(eq1,0),smp.Eq(eqd1,0))\n",
    "\n",
    "# Segundo nudo\n",
    "\n",
    "eq2 = (y2 - y3).subs([(x,L)]).expand()\n",
    "eq2 = smp.simplify(eq2*smp.exp(I*omega*t))\n",
    "\n",
    "eqd2 = (smp.diff(y2,x) - smp.diff(y3,x)).subs([(x,L)])\n",
    "eqd2 = smp.simplify(eqd2*-I*smp.exp(I*omega*t))\n",
    "\n",
    "\n",
    "display(smp.Eq(eq2,0),smp.Eq(eqd2,0))"
   ]
  },
  {
   "cell_type": "code",
   "execution_count": 49,
   "metadata": {},
   "outputs": [
    {
     "data": {
      "text/plain": [
       "{B: A*k_1*k_2*exp(2*I*L*k_2)/(k_1*k_2*exp(2*I*L*k_2) + k_1*k_2 - k_1*k_3*exp(2*I*L*k_2) + k_1*k_3 - k_2**2*exp(2*I*L*k_2) + k_2**2 + k_2*k_3*exp(2*I*L*k_2) + k_2*k_3) + A*k_1*k_2/(k_1*k_2*exp(2*I*L*k_2) + k_1*k_2 - k_1*k_3*exp(2*I*L*k_2) + k_1*k_3 - k_2**2*exp(2*I*L*k_2) + k_2**2 + k_2*k_3*exp(2*I*L*k_2) + k_2*k_3) - A*k_1*k_3*exp(2*I*L*k_2)/(k_1*k_2*exp(2*I*L*k_2) + k_1*k_2 - k_1*k_3*exp(2*I*L*k_2) + k_1*k_3 - k_2**2*exp(2*I*L*k_2) + k_2**2 + k_2*k_3*exp(2*I*L*k_2) + k_2*k_3) + A*k_1*k_3/(k_1*k_2*exp(2*I*L*k_2) + k_1*k_2 - k_1*k_3*exp(2*I*L*k_2) + k_1*k_3 - k_2**2*exp(2*I*L*k_2) + k_2**2 + k_2*k_3*exp(2*I*L*k_2) + k_2*k_3) + A*k_2**2*exp(2*I*L*k_2)/(k_1*k_2*exp(2*I*L*k_2) + k_1*k_2 - k_1*k_3*exp(2*I*L*k_2) + k_1*k_3 - k_2**2*exp(2*I*L*k_2) + k_2**2 + k_2*k_3*exp(2*I*L*k_2) + k_2*k_3) - A*k_2**2/(k_1*k_2*exp(2*I*L*k_2) + k_1*k_2 - k_1*k_3*exp(2*I*L*k_2) + k_1*k_3 - k_2**2*exp(2*I*L*k_2) + k_2**2 + k_2*k_3*exp(2*I*L*k_2) + k_2*k_3) - A*k_2*k_3*exp(2*I*L*k_2)/(k_1*k_2*exp(2*I*L*k_2) + k_1*k_2 - k_1*k_3*exp(2*I*L*k_2) + k_1*k_3 - k_2**2*exp(2*I*L*k_2) + k_2**2 + k_2*k_3*exp(2*I*L*k_2) + k_2*k_3) - A*k_2*k_3/(k_1*k_2*exp(2*I*L*k_2) + k_1*k_2 - k_1*k_3*exp(2*I*L*k_2) + k_1*k_3 - k_2**2*exp(2*I*L*k_2) + k_2**2 + k_2*k_3*exp(2*I*L*k_2) + k_2*k_3),\n",
       " C: 2*A*k_1*k_2/(k_1*k_2*exp(2*I*L*k_2) + k_1*k_2 - k_1*k_3*exp(2*I*L*k_2) + k_1*k_3 - k_2**2*exp(2*I*L*k_2) + k_2**2 + k_2*k_3*exp(2*I*L*k_2) + k_2*k_3) + 2*A*k_1*k_3/(k_1*k_2*exp(2*I*L*k_2) + k_1*k_2 - k_1*k_3*exp(2*I*L*k_2) + k_1*k_3 - k_2**2*exp(2*I*L*k_2) + k_2**2 + k_2*k_3*exp(2*I*L*k_2) + k_2*k_3),\n",
       " D: 2*A*k_1*k_2*exp(2*I*L*k_2)/(k_1*k_2*exp(2*I*L*k_2) + k_1*k_2 - k_1*k_3*exp(2*I*L*k_2) + k_1*k_3 - k_2**2*exp(2*I*L*k_2) + k_2**2 + k_2*k_3*exp(2*I*L*k_2) + k_2*k_3) - 2*A*k_1*k_3*exp(2*I*L*k_2)/(k_1*k_2*exp(2*I*L*k_2) + k_1*k_2 - k_1*k_3*exp(2*I*L*k_2) + k_1*k_3 - k_2**2*exp(2*I*L*k_2) + k_2**2 + k_2*k_3*exp(2*I*L*k_2) + k_2*k_3),\n",
       " E: 4*A*k_1*k_2*exp(I*L*k_2)/(k_1*k_2*exp(2*I*L*k_2)*exp(I*L*k_3) + k_1*k_2*exp(I*L*k_3) - k_1*k_3*exp(2*I*L*k_2)*exp(I*L*k_3) + k_1*k_3*exp(I*L*k_3) - k_2**2*exp(2*I*L*k_2)*exp(I*L*k_3) + k_2**2*exp(I*L*k_3) + k_2*k_3*exp(2*I*L*k_2)*exp(I*L*k_3) + k_2*k_3*exp(I*L*k_3))}"
      ]
     },
     "execution_count": 49,
     "metadata": {},
     "output_type": "execute_result"
    }
   ],
   "source": [
    "sol = smp.solve([eq1,eqd1,eq2,eqd2],[B,C,D,E])\n",
    "sol"
   ]
  },
  {
   "cell_type": "code",
   "execution_count": 50,
   "metadata": {},
   "outputs": [
    {
     "data": {
      "text/latex": [
       "$\\displaystyle \\frac{A \\left(k_{1} k_{2} e^{2 i L k_{2}} + k_{1} k_{2} - k_{1} k_{3} e^{2 i L k_{2}} + k_{1} k_{3} + k_{2}^{2} e^{2 i L k_{2}} - k_{2}^{2} - k_{2} k_{3} e^{2 i L k_{2}} - k_{2} k_{3}\\right)}{k_{1} k_{2} e^{2 i L k_{2}} + k_{1} k_{2} - k_{1} k_{3} e^{2 i L k_{2}} + k_{1} k_{3} - k_{2}^{2} e^{2 i L k_{2}} + k_{2}^{2} + k_{2} k_{3} e^{2 i L k_{2}} + k_{2} k_{3}}$"
      ],
      "text/plain": [
       "A*(k_1*k_2*exp(2*I*L*k_2) + k_1*k_2 - k_1*k_3*exp(2*I*L*k_2) + k_1*k_3 + k_2**2*exp(2*I*L*k_2) - k_2**2 - k_2*k_3*exp(2*I*L*k_2) - k_2*k_3)/(k_1*k_2*exp(2*I*L*k_2) + k_1*k_2 - k_1*k_3*exp(2*I*L*k_2) + k_1*k_3 - k_2**2*exp(2*I*L*k_2) + k_2**2 + k_2*k_3*exp(2*I*L*k_2) + k_2*k_3)"
      ]
     },
     "metadata": {},
     "output_type": "display_data"
    },
    {
     "data": {
      "text/latex": [
       "$\\displaystyle \\frac{2 A k_{1} \\left(k_{2} + k_{3}\\right)}{k_{1} k_{2} e^{2 i L k_{2}} + k_{1} k_{2} - k_{1} k_{3} e^{2 i L k_{2}} + k_{1} k_{3} - k_{2}^{2} e^{2 i L k_{2}} + k_{2}^{2} + k_{2} k_{3} e^{2 i L k_{2}} + k_{2} k_{3}}$"
      ],
      "text/plain": [
       "2*A*k_1*(k_2 + k_3)/(k_1*k_2*exp(2*I*L*k_2) + k_1*k_2 - k_1*k_3*exp(2*I*L*k_2) + k_1*k_3 - k_2**2*exp(2*I*L*k_2) + k_2**2 + k_2*k_3*exp(2*I*L*k_2) + k_2*k_3)"
      ]
     },
     "metadata": {},
     "output_type": "display_data"
    },
    {
     "data": {
      "text/latex": [
       "$\\displaystyle \\frac{2 A k_{1} \\left(k_{2} - k_{3}\\right) e^{2 i L k_{2}}}{k_{1} k_{2} e^{2 i L k_{2}} + k_{1} k_{2} - k_{1} k_{3} e^{2 i L k_{2}} + k_{1} k_{3} - k_{2}^{2} e^{2 i L k_{2}} + k_{2}^{2} + k_{2} k_{3} e^{2 i L k_{2}} + k_{2} k_{3}}$"
      ],
      "text/plain": [
       "2*A*k_1*(k_2 - k_3)*exp(2*I*L*k_2)/(k_1*k_2*exp(2*I*L*k_2) + k_1*k_2 - k_1*k_3*exp(2*I*L*k_2) + k_1*k_3 - k_2**2*exp(2*I*L*k_2) + k_2**2 + k_2*k_3*exp(2*I*L*k_2) + k_2*k_3)"
      ]
     },
     "metadata": {},
     "output_type": "display_data"
    },
    {
     "data": {
      "text/latex": [
       "$\\displaystyle \\frac{2 A k_{1} \\left(k_{2} - k_{3}\\right) e^{2 i L k_{2}}}{k_{1} k_{2} e^{2 i L k_{2}} + k_{1} k_{2} - k_{1} k_{3} e^{2 i L k_{2}} + k_{1} k_{3} - k_{2}^{2} e^{2 i L k_{2}} + k_{2}^{2} + k_{2} k_{3} e^{2 i L k_{2}} + k_{2} k_{3}}$"
      ],
      "text/plain": [
       "2*A*k_1*(k_2 - k_3)*exp(2*I*L*k_2)/(k_1*k_2*exp(2*I*L*k_2) + k_1*k_2 - k_1*k_3*exp(2*I*L*k_2) + k_1*k_3 - k_2**2*exp(2*I*L*k_2) + k_2**2 + k_2*k_3*exp(2*I*L*k_2) + k_2*k_3)"
      ]
     },
     "metadata": {},
     "output_type": "display_data"
    }
   ],
   "source": [
    "BB = sol[B].simplify()\n",
    "CC = sol[C].simplify()\n",
    "DD = sol[D].simplify()\n",
    "EE = sol[D].simplify()\n",
    "\n",
    "display(BB,CC,DD,EE)"
   ]
  },
  {
   "cell_type": "markdown",
   "metadata": {},
   "source": [
    "$$ k_1 = \\omega \\sqrt{\\frac{2 \\lambda_0}{\\tau} }  $$\n",
    "$$ k_2 = \\omega \\sqrt{\\frac{ \\lambda_0}{\\tau} } = \\frac{k_1}{\\sqrt{2}}  $$\n",
    "$$ k_3 = \\omega \\sqrt{\\frac{2 \\lambda_0}{\\tau} } = k_1 $$"
   ]
  },
  {
   "cell_type": "code",
   "execution_count": 51,
   "metadata": {},
   "outputs": [
    {
     "data": {
      "text/latex": [
       "$\\displaystyle \\frac{A \\left(1 - e^{\\sqrt{2} i L k_{1}}\\right)}{- 3 e^{\\sqrt{2} i L k_{1}} + 2 \\sqrt{2} e^{\\sqrt{2} i L k_{1}} + 2 \\sqrt{2} + 3}$"
      ],
      "text/plain": [
       "A*(1 - exp(sqrt(2)*I*L*k_1))/(-3*exp(sqrt(2)*I*L*k_1) + 2*sqrt(2)*exp(sqrt(2)*I*L*k_1) + 2*sqrt(2) + 3)"
      ]
     },
     "metadata": {},
     "output_type": "display_data"
    },
    {
     "data": {
      "text/latex": [
       "$\\displaystyle \\frac{2 A \\left(\\sqrt{2} + 2\\right)}{- 3 e^{\\sqrt{2} i L k_{1}} + 2 \\sqrt{2} e^{\\sqrt{2} i L k_{1}} + 2 \\sqrt{2} + 3}$"
      ],
      "text/plain": [
       "2*A*(sqrt(2) + 2)/(-3*exp(sqrt(2)*I*L*k_1) + 2*sqrt(2)*exp(sqrt(2)*I*L*k_1) + 2*sqrt(2) + 3)"
      ]
     },
     "metadata": {},
     "output_type": "display_data"
    },
    {
     "data": {
      "text/latex": [
       "$\\displaystyle \\frac{2 A \\left(-2 + \\sqrt{2}\\right) e^{\\sqrt{2} i L k_{1}}}{- 3 e^{\\sqrt{2} i L k_{1}} + 2 \\sqrt{2} e^{\\sqrt{2} i L k_{1}} + 2 \\sqrt{2} + 3}$"
      ],
      "text/plain": [
       "2*A*(-2 + sqrt(2))*exp(sqrt(2)*I*L*k_1)/(-3*exp(sqrt(2)*I*L*k_1) + 2*sqrt(2)*exp(sqrt(2)*I*L*k_1) + 2*sqrt(2) + 3)"
      ]
     },
     "metadata": {},
     "output_type": "display_data"
    },
    {
     "data": {
      "text/latex": [
       "$\\displaystyle \\frac{2 A \\left(-2 + \\sqrt{2}\\right) e^{\\sqrt{2} i L k_{1}}}{- 3 e^{\\sqrt{2} i L k_{1}} + 2 \\sqrt{2} e^{\\sqrt{2} i L k_{1}} + 2 \\sqrt{2} + 3}$"
      ],
      "text/plain": [
       "2*A*(-2 + sqrt(2))*exp(sqrt(2)*I*L*k_1)/(-3*exp(sqrt(2)*I*L*k_1) + 2*sqrt(2)*exp(sqrt(2)*I*L*k_1) + 2*sqrt(2) + 3)"
      ]
     },
     "metadata": {},
     "output_type": "display_data"
    }
   ],
   "source": [
    "BB = BB.subs([(k2,k1/smp.sqrt(2)), (k3,k1)]).simplify()\n",
    "CC = CC.subs([(k2,k1/smp.sqrt(2)), (k3,k1)]).simplify()\n",
    "DD = DD.subs([(k2,k1/smp.sqrt(2)), (k3,k1)]).simplify()\n",
    "EE = EE.subs([(k2,k1/smp.sqrt(2)), (k3,k1)]).simplify()\n",
    "\n",
    "display(BB,CC,DD,EE)"
   ]
  },
  {
   "cell_type": "markdown",
   "metadata": {},
   "source": [
    "### Ecuaciones de Onda"
   ]
  },
  {
   "cell_type": "code",
   "execution_count": 52,
   "metadata": {},
   "outputs": [
    {
     "data": {
      "text/latex": [
       "$\\displaystyle \\Psi_{1} = \\frac{A \\left(1 - e^{\\sqrt{2} i L k_{1}}\\right) e^{i \\left(- \\omega t - k_{1} x\\right)}}{- 3 e^{\\sqrt{2} i L k_{1}} + 2 \\sqrt{2} e^{\\sqrt{2} i L k_{1}} + 2 \\sqrt{2} + 3} + A e^{i \\left(- \\omega t + k_{1} x\\right)}$"
      ],
      "text/plain": [
       "Eq(\\Psi_1, A*(1 - exp(sqrt(2)*I*L*k_1))*exp(I*(-\\omega*t - k_1*x))/(-3*exp(sqrt(2)*I*L*k_1) + 2*sqrt(2)*exp(sqrt(2)*I*L*k_1) + 2*sqrt(2) + 3) + A*exp(I*(-\\omega*t + k_1*x)))"
      ]
     },
     "metadata": {},
     "output_type": "display_data"
    },
    {
     "data": {
      "text/latex": [
       "$\\displaystyle \\Psi_{2} = \\frac{2 A \\left(-2 + \\sqrt{2}\\right) e^{i \\left(- \\omega t - \\frac{\\sqrt{2} k_{1} x}{2}\\right)} e^{\\sqrt{2} i L k_{1}}}{- 3 e^{\\sqrt{2} i L k_{1}} + 2 \\sqrt{2} e^{\\sqrt{2} i L k_{1}} + 2 \\sqrt{2} + 3} + \\frac{2 A \\left(\\sqrt{2} + 2\\right) e^{i \\left(- \\omega t + \\frac{\\sqrt{2} k_{1} x}{2}\\right)}}{- 3 e^{\\sqrt{2} i L k_{1}} + 2 \\sqrt{2} e^{\\sqrt{2} i L k_{1}} + 2 \\sqrt{2} + 3}$"
      ],
      "text/plain": [
       "Eq(\\Psi_2, 2*A*(-2 + sqrt(2))*exp(I*(-\\omega*t - sqrt(2)*k_1*x/2))*exp(sqrt(2)*I*L*k_1)/(-3*exp(sqrt(2)*I*L*k_1) + 2*sqrt(2)*exp(sqrt(2)*I*L*k_1) + 2*sqrt(2) + 3) + 2*A*(sqrt(2) + 2)*exp(I*(-\\omega*t + sqrt(2)*k_1*x/2))/(-3*exp(sqrt(2)*I*L*k_1) + 2*sqrt(2)*exp(sqrt(2)*I*L*k_1) + 2*sqrt(2) + 3))"
      ]
     },
     "metadata": {},
     "output_type": "display_data"
    },
    {
     "data": {
      "text/latex": [
       "$\\displaystyle \\Psi_{3} = \\frac{2 A \\left(-2 + \\sqrt{2}\\right) e^{i \\left(- \\omega t - \\frac{\\sqrt{2} k_{1} x}{2}\\right)} e^{\\sqrt{2} i L k_{1}}}{- 3 e^{\\sqrt{2} i L k_{1}} + 2 \\sqrt{2} e^{\\sqrt{2} i L k_{1}} + 2 \\sqrt{2} + 3} + \\frac{2 A \\left(\\sqrt{2} + 2\\right) e^{i \\left(- \\omega t + \\frac{\\sqrt{2} k_{1} x}{2}\\right)}}{- 3 e^{\\sqrt{2} i L k_{1}} + 2 \\sqrt{2} e^{\\sqrt{2} i L k_{1}} + 2 \\sqrt{2} + 3}$"
      ],
      "text/plain": [
       "Eq(\\Psi_3, 2*A*(-2 + sqrt(2))*exp(I*(-\\omega*t - sqrt(2)*k_1*x/2))*exp(sqrt(2)*I*L*k_1)/(-3*exp(sqrt(2)*I*L*k_1) + 2*sqrt(2)*exp(sqrt(2)*I*L*k_1) + 2*sqrt(2) + 3) + 2*A*(sqrt(2) + 2)*exp(I*(-\\omega*t + sqrt(2)*k_1*x/2))/(-3*exp(sqrt(2)*I*L*k_1) + 2*sqrt(2)*exp(sqrt(2)*I*L*k_1) + 2*sqrt(2) + 3))"
      ]
     },
     "metadata": {},
     "output_type": "display_data"
    }
   ],
   "source": [
    "y1 = y1.subs([(k2,k1/smp.sqrt(2)), (k3,k1) , (B,BB)])\n",
    "y2 = y2.subs([(k2,k1/smp.sqrt(2)), (k3,k1) , (C,CC),(D,DD)])\n",
    "y3 = y2.subs([(k2,k1/smp.sqrt(2)), (k3,k1) , (E,EE)])\n",
    "\n",
    "Y1,Y2,Y3 = smp.symbols(r\"\\Psi_1,\\Psi_2,\\Psi_3\")\n",
    "\n",
    "display(smp.Eq(Y1,y1),smp.Eq(Y2,y2),smp.Eq(Y3,y3))"
   ]
  },
  {
   "cell_type": "markdown",
   "metadata": {},
   "source": [
    "### Coeficiente de transmision medio 1 - medio 2"
   ]
  },
  {
   "cell_type": "code",
   "execution_count": 59,
   "metadata": {},
   "outputs": [
    {
     "data": {
      "text/latex": [
       "$\\displaystyle \\frac{\\left(2 \\sqrt{2} + 4\\right)^{2}}{34 - 2 \\cos{\\left(\\sqrt{2} L k_{1} \\right)}}$"
      ],
      "text/plain": [
       "(2*sqrt(2) + 4)**2/(34 - 2*cos(sqrt(2)*L*k_1))"
      ]
     },
     "execution_count": 59,
     "metadata": {},
     "output_type": "execute_result"
    }
   ],
   "source": [
    "T = (smp.Abs(CC/A)**2)\n",
    "T = smp.expand_complex(T)\n",
    "T"
   ]
  },
  {
   "cell_type": "markdown",
   "metadata": {},
   "source": [
    "El valor que maximiza el coeficiente de transmision es aquel que hace el denominar de la expresion lo mas pequeño posible"
   ]
  },
  {
   "cell_type": "code",
   "execution_count": 62,
   "metadata": {},
   "outputs": [
    {
     "data": {
      "text/latex": [
       "$\\displaystyle \\frac{\\sqrt{2} \\pi}{2 k_{1}}$"
      ],
      "text/plain": [
       "sqrt(2)*pi/(2*k_1)"
      ]
     },
     "execution_count": 62,
     "metadata": {},
     "output_type": "execute_result"
    }
   ],
   "source": [
    "dT = smp.diff(T,L)\n",
    "smp.solve(smp.Eq(dT,0),L)[1]"
   ]
  }
 ],
 "metadata": {
  "kernelspec": {
   "display_name": "base",
   "language": "python",
   "name": "python3"
  },
  "language_info": {
   "codemirror_mode": {
    "name": "ipython",
    "version": 3
   },
   "file_extension": ".py",
   "mimetype": "text/x-python",
   "name": "python",
   "nbconvert_exporter": "python",
   "pygments_lexer": "ipython3",
   "version": "3.12.2"
  }
 },
 "nbformat": 4,
 "nbformat_minor": 2
}
