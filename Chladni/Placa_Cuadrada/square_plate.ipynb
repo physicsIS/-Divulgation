{
 "cells": [
  {
   "cell_type": "markdown",
   "metadata": {},
   "source": [
    "Onda en una placa cuadrada"
   ]
  },
  {
   "cell_type": "markdown",
   "metadata": {},
   "source": [
    "La ecuación a resolver es:"
   ]
  },
  {
   "cell_type": "markdown",
   "metadata": {},
   "source": [
    "$$\n",
    "\\frac{\\partial^2 u}{\\partial t^2} = c^2 \\left( \\frac{\\partial^2 u}{\\partial x^2} + \\frac{\\partial^2 u}{\\partial y^2} \\right)\n",
    "$$\n"
   ]
  },
  {
   "cell_type": "markdown",
   "metadata": {},
   "source": [
    "En este caso, como queremos simular una placa chladni, la condición de frontera tiene que ser que la onda se refleje en los bordes, lo que quiere decir Dirichlet, y sería 0 en los bordes de la placa (borde fijo)"
   ]
  },
  {
   "cell_type": "markdown",
   "metadata": {},
   "source": [
    "Este problema, realmente se puede resolver analiticamente, pero se hara numericamente para enseñar como sería"
   ]
  },
  {
   "cell_type": "code",
   "execution_count": 2,
   "metadata": {},
   "outputs": [],
   "source": [
    "#Librerias a utilizar\n",
    "import numpy as np\n",
    "import sympy as sp\n",
    "from wave_equation_2D import wave_equation_2D\n",
    "from plot_chladni_nodal_lines import plot_chladni_nodal_lines\n",
    "import plotly.graph_objects as go #Muy bueno para graficar, recomendado"
   ]
  },
  {
   "cell_type": "code",
   "execution_count": null,
   "metadata": {},
   "outputs": [],
   "source": [
    "#Parametros\n",
    "x_i = 0\n",
    "x_f = 10\n",
    "y_i = 0\n",
    "y_f = 10\n",
    "L = x_f - x_i\n",
    "Nx = 50\n",
    "Ny = 50\n",
    "# Definición de los pasos espaciales\n",
    "hx = (x_f - x_i) / (Nx+1)\n",
    "hy = (y_f - y_i) / (Ny+1)\n",
    "# Crear los vectores de malla\n",
    "x = np.linspace(x_i, x_f, Nx+2) # Vectores de posición en x\n",
    "y = np.linspace(y_i, y_f, Ny+2) # Vectores de posición en y\n",
    "T = 500; # Tiempo de simulación\n",
    "dt = 0.09; # Tamaño del paso de tiempo\n",
    "t = np.arange(0,T*dt,dt)\n",
    "c = 1; # Velocidad de la onda\n",
    "print(x.shape)\n",
    "print(y.shape)"
   ]
  },
  {
   "cell_type": "code",
   "execution_count": null,
   "metadata": {},
   "outputs": [],
   "source": [
    "Z,X,Y = wave_equation_2D(x_i, x_f, y_i, y_f, Nx, Ny, T, dt, c)\n",
    "print(X.shape)\n",
    "print(Y.shape)\n",
    "print(Z.shape)\n",
    "#Nada más para corroborar que tengas misma dimensión\n"
   ]
  },
  {
   "cell_type": "code",
   "execution_count": null,
   "metadata": {},
   "outputs": [],
   "source": [
    "#Codigo para graficar\n",
    "\n",
    "# Crear el gráfico con plotly\n",
    "# Configuración común para la superficie\n",
    "surface_params = dict(\n",
    "    x=X,\n",
    "    y=Y,\n",
    "    colorscale='Viridis',\n",
    "    cmin=-0.3,\n",
    "    cmax=0.3,\n",
    "    colorbar=dict(title='Amplitud')\n",
    ")\n",
    "\n",
    "# Crear gráfico inicial\n",
    "fig = go.Figure(\n",
    "    data=[go.Surface(z=Z[:, :, 0], **surface_params)],\n",
    "    layout=go.Layout(\n",
    "        title=\"Wave Animation\",\n",
    "        scene=dict(\n",
    "            xaxis=dict(title='X', range=[x_i, x_f]),\n",
    "            yaxis=dict(title='Y', range=[y_i, y_f]),\n",
    "            zaxis=dict(title='Amplitud', range=[-0.3, 0.3])\n",
    "        ),\n",
    "        updatemenus=[dict(\n",
    "            type=\"buttons\",\n",
    "            showactive=False,\n",
    "            buttons=[dict(\n",
    "                label=\"Play\",\n",
    "                method=\"animate\",\n",
    "                args=[None, dict(frame=dict(duration=30, redraw=True), fromcurrent=True)]\n",
    "            )]\n",
    "        )]\n",
    "    ),\n",
    "    frames=[\n",
    "        go.Frame(\n",
    "            data=[go.Surface(z=Z[:, :, t], **surface_params)],\n",
    "            name=f'frame-{t}'\n",
    "        ) for t in range(0, T)\n",
    "    ]\n",
    ")\n",
    "\n",
    "# Mostrar la animación\n",
    "fig.show()\n"
   ]
  },
  {
   "cell_type": "markdown",
   "metadata": {},
   "source": [
    "Solución Analitica\n"
   ]
  },
  {
   "cell_type": "markdown",
   "metadata": {},
   "source": [
    "$$\n",
    "u(x, y, t) = A \\sin\\left(\\frac{m \\pi x}{L_x}\\right) \\sin\\left(\\frac{n \\pi y}{L_y}\\right) \\cos(\\omega_{mn} t),\n",
    "$$"
   ]
  },
  {
   "cell_type": "markdown",
   "metadata": {},
   "source": [
    "$\n",
    "\\omega_{mn} = \\pi^2 \\sqrt{\\frac{D}{\\rho}} \\left(\\frac{m^2}{L_x^2} + \\frac{n^2}{L_y^2}\\right),\n",
    "$\n",
    "Con D: la rigidez de la placa y $\\rho$ la densidad superficial"
   ]
  },
  {
   "cell_type": "markdown",
   "metadata": {},
   "source": [
    "A continuanción, algunos de lo posibles patrones que se pueden observar"
   ]
  },
  {
   "cell_type": "code",
   "execution_count": null,
   "metadata": {},
   "outputs": [],
   "source": [
    "\n",
    "# Definir el tamaño de la placa\n",
    "L = 1\n",
    "\n",
    "# Crear una lista de combinaciones de n y m de 1 a 5, excluyendo los casos donde n = m o (n,m) = (m,n)\n",
    "combinations = []\n",
    "for n in range(1, 6):\n",
    "    for m in range(1, 6):\n",
    "        if n != m and (m, n) not in combinations:\n",
    "            combinations.append((n, m))\n",
    "\n",
    "# Iterar sobre cada combinación y graficar\n",
    "for n, m in combinations:\n",
    "    plot_chladni_nodal_lines(L, n, m)\n"
   ]
  }
 ],
 "metadata": {
  "kernelspec": {
   "display_name": "base",
   "language": "python",
   "name": "python3"
  },
  "language_info": {
   "codemirror_mode": {
    "name": "ipython",
    "version": 3
   },
   "file_extension": ".py",
   "mimetype": "text/x-python",
   "name": "python",
   "nbconvert_exporter": "python",
   "pygments_lexer": "ipython3",
   "version": "3.12.7"
  }
 },
 "nbformat": 4,
 "nbformat_minor": 2
}
